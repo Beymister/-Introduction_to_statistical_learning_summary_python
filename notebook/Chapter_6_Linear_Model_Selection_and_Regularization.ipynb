{
 "cells": [
  {
   "cell_type": "markdown",
   "metadata": {},
   "source": [
    "# Linear Model Selection and Regularization\n",
    "\n",
    "Topics covered in this chapter of the book-\n",
    "\n",
    "* 6.1 SubsetSelection ........................ 205 \n",
    "  * 6.1.1 BestSubsetSelection ................. 205 \n",
    "  * 6.1.2 StepwiseSelection ................... 207 \n",
    "  * 6.1.3 ChoosingtheOptimalModel ............. 210\n",
    "* 6.2 ShrinkageMethods....................... 214 \n",
    "  * 6.2.1 RidgeRegression.................... 215 \n",
    "  * 6.2.2 TheLasso........................ 219 \n",
    "  * 6.2.3 SelectingtheTuningParameter. . . . . . . . . . . . 227\n",
    "* 6.3 DimensionReductionMethods ................ 228 \n",
    "  * 6.3.1 Principal Components Regression . . . . . . . . . . . 230 \n",
    "  * 6.3.2 PartialLeastSquares ................. 237\n",
    "* 6.4 ConsiderationsinHighDimensions . . . . . . . . . . . . . . 238 \n",
    "  * 6.4.1 High-DimensionalData ................ 238 \n",
    "  * 6.4.2 What Goes Wrong in High Dimensions? . . . . . . . 239 \n",
    "  * 6.4.3 RegressioninHighDimensions . . . . . . . . . . . . 241 \n",
    "  * 6.4.4 Interpreting Results in High Dimensions . . . . . . . 243\n",
    "* 6.5 Lab1:SubsetSelectionMethods ............... 244\n",
    "  * 6.5.1 BestSubsetSelection ................. 244\n",
    "  * 6.5.2 Forward and Backward Stepwise Selection . . . . . . 247\n",
    "  * 6.5.3 Choosing Among Models Using the Validation Set Approach and Cross-Validation . . . . . . . . . . 248\n",
    "* 6.6 Lab2:RidgeRegressionandtheLasso. . . . . . . . . . . . 251 \n",
    "  * 6.6.1 RidgeRegression.................... 251 \n",
    "  * 6.6.2 TheLasso........................ 255\n",
    "* 6.7 Lab3:PCRandPLSRegression ............... 256 \n",
    "  * 6.7.1 Principal Components Regression . . . . . . . . . . . 256 \n",
    "  * 6.7.2 PartialLeastSquares ................. 258\n",
    "\n",
    "**Following is the summary of concepts along with data and python code-**"
   ]
  },
  {
   "cell_type": "code",
   "execution_count": 96,
   "metadata": {},
   "outputs": [],
   "source": [
    "import numpy as np\n",
    "import matplotlib.pyplot as plt\n",
    "import scipy\n",
    "import pandas as pd \n",
    "import math\n",
    "import time\n",
    "import random\n",
    "import itertools\n",
    "\n",
    "import statsmodels.api as sm\n",
    "import statsmodels.formula.api as smf\n",
    "from statsmodels.graphics.regressionplots import *\n",
    "from sklearn import datasets, linear_model\n",
    "from sklearn.decomposition import PCA \n",
    "from sklearn.preprocessing import StandardScaler\n",
    "from sklearn.cross_decomposition import PLSRegression, PLSSVD\n",
    "from sklearn.decomposition import PCA \n",
    "from sklearn.preprocessing import StandardScaler \n",
    "from sklearn import linear_model \n",
    "from sklearn.model_selection import cross_val_predict \n",
    "from sklearn.metrics import mean_squared_error, r2_score"
   ]
  },
  {
   "cell_type": "markdown",
   "metadata": {},
   "source": [
    "In this chapter, we discuss some ways in which the simple linear model can be improved, by replacing plain least squares fitting with some alternative fitting procedures.\n",
    "\n",
    "There are many alternatives, both classical and modern, to using least squares to fit. In this chapter, we discuss three important classes of methods- \n",
    "* **Subset Selection**- This approach involves identifying a subset of the p predictors that we believe to be related to the response. We then fit a model using least squares on the reduced set of variables.\n",
    "\n",
    "* **Shrinkage**- This approach involves fitting a model involving all p pre- dictors. However, the estimated coefficients are shrunken towards zero relative to the least squares estimates. This shrinkage (also known as regularization) has the effect of reducing variance. Depending on what type of shrinkage is performed, some of the coefficients may be esti- mated to be exactly zero. Hence, shrinkage methods can also perform variable selection.\n",
    "\n",
    "* **Dimension Reduction**- This approach involves projecting the p predic- tors into a M-dimensional subspace, where M < p. This is achieved by computing M different linear combinations, or projections, of the variables. Then these M projections are used as predictors to fit a linear regression model by least squares."
   ]
  },
  {
   "cell_type": "markdown",
   "metadata": {},
   "source": [
    "## Subset Selection Methods\n",
    "\n",
    "### Best Subset Selection\n",
    "To perform best subset selection, we fit a separate least squares regression for each possible combination of the    predictors. The process for selecting best model looks like this-\n",
    "\n",
    "1. Let M0 denote the null model, which contains no predictors. This model simply predicts the sample mean for each observation.\n",
    "\n",
    "\n",
    "2. For k=1,2,...p:\n",
    "* (a) Fit all models that contain exactly k predictors.\n",
    "* (b) Pick the best among these k models, and call it Mk. Here *best* is defined as having the smallest RSS, or equivalently largest R .\n",
    "\n",
    "3. Select a single best model from among M0, . . . , Mp using cross- validated prediction error, Cp (AIC), BIC, or adjusted R ."
   ]
  },
  {
   "cell_type": "code",
   "execution_count": 4,
   "metadata": {},
   "outputs": [
    {
     "name": "stdout",
     "output_type": "stream",
     "text": [
      "(322, 20)\n",
      "   AtBat  Hits  HmRun  Runs  RBI  Walks  Years  CAtBat  CHits  CHmRun  CRuns  \\\n",
      "0    293    66      1    30   29     14      1     293     66       1     30   \n",
      "1    315    81      7    24   38     39     14    3449    835      69    321   \n",
      "2    479   130     18    66   72     76      3    1624    457      63    224   \n",
      "3    496   141     20    65   78     37     11    5628   1575     225    828   \n",
      "4    321    87     10    39   42     30      2     396    101      12     48   \n",
      "\n",
      "   CRBI  CWalks League Division  PutOuts  Assists  Errors  Salary NewLeague  \n",
      "0    29      14      A        E      446       33      20     NaN         A  \n",
      "1   414     375      N        W      632       43      10   475.0         N  \n",
      "2   266     263      A        W      880       82      14   480.0         A  \n",
      "3   838     354      N        E      200       11       3   500.0         N  \n",
      "4    46      33      N        E      805       40       4    91.5         N  \n"
     ]
    }
   ],
   "source": [
    "Hitters = pd.read_csv('../data/Hitters.csv', header=0, na_values='NA')\n",
    "print(Hitters.shape) # get the dimension of this \n",
    "print(Hitters.head()) # pull a sample of this dataset"
   ]
  },
  {
   "cell_type": "code",
   "execution_count": 5,
   "metadata": {},
   "outputs": [
    {
     "data": {
      "text/plain": [
       "(263, 20)"
      ]
     },
     "execution_count": 5,
     "metadata": {},
     "output_type": "execute_result"
    }
   ],
   "source": [
    "Hitters = Hitters.dropna().reset_index(drop=True) # drop the observation with NA values and reindex the obs from 0\n",
    "Hitters.shape"
   ]
  },
  {
   "cell_type": "code",
   "execution_count": 20,
   "metadata": {},
   "outputs": [],
   "source": [
    "y = Hitters.Salary  # the response variable \n",
    "\n",
    "# change categorical variables into dummies\n",
    "dummies = pd.get_dummies(Hitters[['League', 'Division', 'NewLeague']]) \n",
    "\n",
    "#keep n-1 dummy variables for each categorical variable with n unique value/category\n",
    "X_prep = Hitters.drop (['Salary', 'League', 'Division', 'NewLeague'], axis = 1).astype('float64')\n",
    "X = pd.concat([X_prep,  dummies[['League_A', 'Division_E', 'NewLeague_A']]], axis=1)  "
   ]
  },
  {
   "cell_type": "code",
   "execution_count": 34,
   "metadata": {},
   "outputs": [],
   "source": [
    "## Functions to run on a subset of feature and extract RSS\n",
    "def getRSS(y, X, feature_list):\n",
    "    model = sm.OLS(y, X[list(feature_list)]).fit()\n",
    "    RSS = ((model.predict(X[list(feature_list)]) - y) ** 2).sum()\n",
    "    return {'Model':model, \"RSS\":RSS}\n",
    "\n",
    "## Functions to select the best model on basis of RSS for given number of features\n",
    "def bestModel(y, X, K):\n",
    "    results = []\n",
    "    for c in itertools.combinations(X.columns, K):\n",
    "        results.append(getRSS(y, X, c))     \n",
    "    model_all =  pd.DataFrame(results)\n",
    "    \n",
    "    best_model = model_all.loc[model_all[\"RSS\"].argmin()]\n",
    "    return best_model"
   ]
  },
  {
   "cell_type": "code",
   "execution_count": 28,
   "metadata": {},
   "outputs": [],
   "source": [
    "max_feature = 3\n",
    "models = pd.DataFrame(columns=[\"RSS\", \"Model\"])\n",
    "for i in range(1,(max_feature+1)):   \n",
    "    models.loc[i] = bestModel(y, X, i)"
   ]
  },
  {
   "cell_type": "code",
   "execution_count": 33,
   "metadata": {},
   "outputs": [
    {
     "name": "stdout",
     "output_type": "stream",
     "text": [
      "            RSS                                              Model\n",
      "1  4.321393e+07  <statsmodels.regression.linear_model.Regressio...\n",
      "2  3.073305e+07  <statsmodels.regression.linear_model.Regressio...\n",
      "3  2.943854e+07  <statsmodels.regression.linear_model.Regressio...\n",
      "                                 OLS Regression Results                                \n",
      "=======================================================================================\n",
      "Dep. Variable:                 Salary   R-squared (uncentered):                   0.772\n",
      "Model:                            OLS   Adj. R-squared (uncentered):              0.769\n",
      "Method:                 Least Squares   F-statistic:                              292.7\n",
      "Date:                Fri, 23 Oct 2020   Prob (F-statistic):                    5.01e-83\n",
      "Time:                        23:48:21   Log-Likelihood:                         -1902.0\n",
      "No. Observations:                 263   AIC:                                      3810.\n",
      "Df Residuals:                     260   BIC:                                      3821.\n",
      "Df Model:                           3                                                  \n",
      "Covariance Type:            nonrobust                                                  \n",
      "==============================================================================\n",
      "                 coef    std err          t      P>|t|      [0.025      0.975]\n",
      "------------------------------------------------------------------------------\n",
      "Hits           2.3164      0.318      7.295      0.000       1.691       2.942\n",
      "CRBI           0.6665      0.065     10.293      0.000       0.539       0.794\n",
      "PutOuts        0.2614      0.077      3.381      0.001       0.109       0.414\n",
      "==============================================================================\n",
      "Omnibus:                      114.300   Durbin-Watson:                   2.008\n",
      "Prob(Omnibus):                  0.000   Jarque-Bera (JB):              666.384\n",
      "Skew:                           1.652   Prob(JB):                    1.98e-145\n",
      "Kurtosis:                      10.063   Cond. No.                         8.59\n",
      "==============================================================================\n",
      "\n",
      "Notes:\n",
      "[1] R² is computed without centering (uncentered) since the model does not contain a constant.\n",
      "[2] Standard Errors assume that the covariance matrix of the errors is correctly specified.\n"
     ]
    }
   ],
   "source": [
    "# The summary() function also returns R2, RSS, adjusted R2, Cp, and BIC.\n",
    "# We can examine these on each model to try to select the best overall model.\n",
    "print(models)\n",
    "print(models.loc[3, 'Model'].summary()) # model with 3 variables- Hits, CRBI, PutOuts is the best"
   ]
  },
  {
   "cell_type": "code",
   "execution_count": 29,
   "metadata": {},
   "outputs": [
    {
     "data": {
      "image/png": "[encoded data removed]",
      "text/plain": [
       "<Figure size 432x288 with 1 Axes>"
      ]
     },
     "metadata": {
      "needs_background": "light"
     },
     "output_type": "display_data"
    }
   ],
   "source": [
    "# Plot to show an example to plot the RSS of best models with different number of parameters\n",
    "plt.figure()\n",
    "plt.plot(models[\"RSS\"])\n",
    "plt.xlabel('# features')\n",
    "plt.ylabel('RSS')\n",
    "plt.show()\n",
    "# RSS is falling with features- 3 variable model is the best one on the basis of RSS- we can keep adding features further to find best model "
   ]
  },
  {
   "cell_type": "code",
   "execution_count": 30,
   "metadata": {},
   "outputs": [
    {
     "data": {
      "text/plain": [
       "1    0.663357\n",
       "2    0.759667\n",
       "3    0.768905\n",
       "dtype: float64"
      ]
     },
     "execution_count": 30,
     "metadata": {},
     "output_type": "execute_result"
    }
   ],
   "source": [
    "rsquared_adj = models.apply(lambda a: \n",
    "                            a[1].rsquared_adj, axis=1)\n",
    "rsquared_adj"
   ]
  },
  {
   "cell_type": "code",
   "execution_count": 31,
   "metadata": {},
   "outputs": [
    {
     "data": {
      "image/png": "[encoded data removed]",
      "text/plain": [
       "<Figure size 432x288 with 1 Axes>"
      ]
     },
     "metadata": {
      "needs_background": "light"
     },
     "output_type": "display_data"
    }
   ],
   "source": [
    "# Plot to show an example to plot the RSS of best models with different number of parameters\n",
    "plt.figure()\n",
    "plt.plot(rsquared_adj)\n",
    "plt.xlabel('# features')\n",
    "plt.ylabel('Adj R^2')\n",
    "plt.show()\n",
    "# Adj R2 is increasing with features - 3 variable model is the best one on the basis of Adj R2 - we can keep adding features further to find best model \n"
   ]
  },
  {
   "cell_type": "markdown",
   "metadata": {},
   "source": [
    "### Forward Stepwise Selection\n",
    "\n",
    "Forward stepwise selection is a computationally efficient alternative to best subset selection. While the best subset selection procedure considers all 2p possible models containing subsets of the p predictors, forward step- wise considers a much smaller set of models. Forward stepwise selection begins with a model containing no predictors, and then adds predictors to the model, one-at-a-time, until all of the predictors are in the model. In particular, at each step the variable that gives the greatest additional improvement to the fit is added to the model. \n",
    "\n",
    "1. Let M0 denote the null model, which contains no predictors.\n",
    "\n",
    "\n",
    "2. For k=0,...,p−1:\n",
    "* (a) Consider all p − k models that augment the predictors in Mk with one additional predictor.\n",
    "* (b) Choose the best among these p − k models, and call it Mk+1. Here best is defined as having smallest RSS or highest R .\n",
    "\n",
    "3. Select a single best model from among M0, . . . , Mp using cross-validated prediction error, Cp (AIC), BIC, or adjusted R .\n",
    " "
   ]
  },
  {
   "cell_type": "code",
   "execution_count": 35,
   "metadata": {},
   "outputs": [],
   "source": [
    "def forward_select(y, X, feature_list):\n",
    "    remaining_predictors = [p for p in X.columns if p not in feature_list]\n",
    "    results = []\n",
    "    for p in remaining_predictors:\n",
    "        results.append(getRSS(y, X, feature_list+[p]))\n",
    "\n",
    "    models = pd.DataFrame(results)\n",
    "    best_model = models.loc[models['RSS'].idxmin()]\n",
    "    return best_model "
   ]
  },
  {
   "cell_type": "code",
   "execution_count": 41,
   "metadata": {},
   "outputs": [],
   "source": [
    "max_feature = 15\n",
    "models2 = pd.DataFrame(columns=[\"RSS\", \"Model\"])\n",
    "feature_list = []\n",
    "for i in range(1,max_feature+1):\n",
    "    models2.loc[i] = forward_select(y, X, feature_list)\n",
    "    feature_list = models2.loc[i][\"Model\"].model.exog_names"
   ]
  },
  {
   "cell_type": "code",
   "execution_count": 42,
   "metadata": {},
   "outputs": [
    {
     "name": "stdout",
     "output_type": "stream",
     "text": [
      "             RSS                                              Model\n",
      "1   4.321393e+07  <statsmodels.regression.linear_model.Regressio...\n",
      "2   3.073305e+07  <statsmodels.regression.linear_model.Regressio...\n",
      "3   2.943854e+07  <statsmodels.regression.linear_model.Regressio...\n",
      "4   2.826074e+07  <statsmodels.regression.linear_model.Regressio...\n",
      "5   2.717538e+07  <statsmodels.regression.linear_model.Regressio...\n",
      "6   2.621956e+07  <statsmodels.regression.linear_model.Regressio...\n",
      "7   2.596156e+07  <statsmodels.regression.linear_model.Regressio...\n",
      "8   2.516030e+07  <statsmodels.regression.linear_model.Regressio...\n",
      "9   2.483520e+07  <statsmodels.regression.linear_model.Regressio...\n",
      "10  2.455470e+07  <statsmodels.regression.linear_model.Regressio...\n",
      "11  2.446856e+07  <statsmodels.regression.linear_model.Regressio...\n",
      "12  2.441054e+07  <statsmodels.regression.linear_model.Regressio...\n",
      "13  2.438377e+07  <statsmodels.regression.linear_model.Regressio...\n",
      "14  2.435901e+07  <statsmodels.regression.linear_model.Regressio...\n",
      "15  2.433831e+07  <statsmodels.regression.linear_model.Regressio...\n",
      "                                 OLS Regression Results                                \n",
      "=======================================================================================\n",
      "Dep. Variable:                 Salary   R-squared (uncentered):                   0.772\n",
      "Model:                            OLS   Adj. R-squared (uncentered):              0.769\n",
      "Method:                 Least Squares   F-statistic:                              292.7\n",
      "Date:                Sat, 24 Oct 2020   Prob (F-statistic):                    5.01e-83\n",
      "Time:                        00:02:48   Log-Likelihood:                         -1902.0\n",
      "No. Observations:                 263   AIC:                                      3810.\n",
      "Df Residuals:                     260   BIC:                                      3821.\n",
      "Df Model:                           3                                                  \n",
      "Covariance Type:            nonrobust                                                  \n",
      "==============================================================================\n",
      "                 coef    std err          t      P>|t|      [0.025      0.975]\n",
      "------------------------------------------------------------------------------\n",
      "Hits           2.3164      0.318      7.295      0.000       1.691       2.942\n",
      "CRBI           0.6665      0.065     10.293      0.000       0.539       0.794\n",
      "PutOuts        0.2614      0.077      3.381      0.001       0.109       0.414\n",
      "==============================================================================\n",
      "Omnibus:                      114.300   Durbin-Watson:                   2.008\n",
      "Prob(Omnibus):                  0.000   Jarque-Bera (JB):              666.384\n",
      "Skew:                           1.652   Prob(JB):                    1.98e-145\n",
      "Kurtosis:                      10.063   Cond. No.                         8.59\n",
      "==============================================================================\n",
      "\n",
      "Notes:\n",
      "[1] R² is computed without centering (uncentered) since the model does not contain a constant.\n",
      "[2] Standard Errors assume that the covariance matrix of the errors is correctly specified.\n"
     ]
    }
   ],
   "source": [
    "print(models2)\n",
    "print(models2.loc[3, 'Model'].summary())\n",
    "# RSS is falling with features"
   ]
  },
  {
   "cell_type": "code",
   "execution_count": 46,
   "metadata": {},
   "outputs": [
    {
     "name": "stdout",
     "output_type": "stream",
     "text": [
      "1     0.663357\n",
      "2     0.759667\n",
      "3     0.768905\n",
      "4     0.777294\n",
      "5     0.785017\n",
      "6     0.791772\n",
      "7     0.793015\n",
      "8     0.798617\n",
      "9     0.800436\n",
      "10    0.801910\n",
      "11    0.801822\n",
      "12    0.801504\n",
      "13    0.800929\n",
      "14    0.800332\n",
      "15    0.799698\n",
      "dtype: float64\n"
     ]
    }
   ],
   "source": [
    "rsquared_adj = models2.apply(lambda a: \n",
    "                            a[1].rsquared_adj, axis=1)\n",
    "print(rsquared_adj)\n",
    "# Adj R^2 is increasing with features\n",
    "# R^2 increasing & RSS lowering but adj R^2 is falling post 10 p hence, we dont need more than 10 p, others are insignificant.\n"
   ]
  },
  {
   "cell_type": "markdown",
   "metadata": {},
   "source": [
    "### Backward Stepwise Selection\n",
    "\n",
    "Like forward stepwise selection, backward stepwise selection provides an efficient alternative to best subset selection. However, unlike forward stepwise selection, it begins with the full least squares model containing all p predictors, and then iteratively removes the least useful predictor, one-at-a-time. \n",
    "\n",
    "1. Let Mp denote the full model, which contains all p predictors.\n",
    "\n",
    "\n",
    "2. For k=p,p−1,...,1:\n",
    "\n",
    "* (a) Consider all k models that contain all but one of the predictors in Mk, for a total of k − 1 predictors.\n",
    "* (b) Choose the best among these k models, and call it Mk−1. Here best is defined as having smallest RSS or highest R.\n",
    "\n",
    "3. Select a single best model from among M0, . . . , Mp using cross-validated prediction error, Cp (AIC), BIC, or adjusted R ."
   ]
  },
  {
   "cell_type": "code",
   "execution_count": 47,
   "metadata": {},
   "outputs": [],
   "source": [
    "def backward_select(y, X, feature_list):\n",
    "    results = []\n",
    "    for combo in itertools.combinations(feature_list, len(feature_list)-1):\n",
    "        results.append(getRSS(y, X, combo))\n",
    "\n",
    "    models = pd.DataFrame(results)\n",
    "    best_model = models.loc[models['RSS'].idxmin()]\n",
    "    return best_model "
   ]
  },
  {
   "cell_type": "code",
   "execution_count": 58,
   "metadata": {},
   "outputs": [],
   "source": [
    "models3 = pd.DataFrame(columns=[\"RSS\", \"Model\"], index = range(1,len(X.columns)))\n",
    "feature_list = X.columns\n",
    "\n",
    "while(len(feature_list) > 1):\n",
    "    models3.loc[len(feature_list)-1] = backward_select(y, X, feature_list)\n",
    "    feature_list = models3.loc[len(feature_list)-1][\"Model\"].model.exog_names"
   ]
  },
  {
   "cell_type": "code",
   "execution_count": 57,
   "metadata": {},
   "outputs": [
    {
     "name": "stdout",
     "output_type": "stream",
     "text": [
      "1     4.32139e+07\n",
      "2     3.13002e+07\n",
      "3     2.96395e+07\n",
      "4     2.84592e+07\n",
      "5     2.75168e+07\n",
      "6     2.67055e+07\n",
      "7     2.59362e+07\n",
      "8     2.51603e+07\n",
      "9     2.48352e+07\n",
      "10    2.45547e+07\n",
      "11    2.44686e+07\n",
      "12    2.44105e+07\n",
      "13    2.43838e+07\n",
      "14     2.4359e+07\n",
      "15    2.43383e+07\n",
      "16    2.43192e+07\n",
      "17    2.43037e+07\n",
      "18    2.42965e+07\n",
      "Name: RSS, dtype: object\n",
      "1     0.663357\n",
      "2     0.755232\n",
      "3     0.767327\n",
      "4     0.775731\n",
      "5     0.782317\n",
      "6     0.787913\n",
      "7     0.793218\n",
      "8     0.798617\n",
      "9     0.800436\n",
      "10    0.801910\n",
      "11    0.801822\n",
      "12    0.801504\n",
      "13    0.800929\n",
      "14    0.800332\n",
      "15    0.799698\n",
      "16    0.799045\n",
      "17    0.798357\n",
      "18    0.797593\n",
      "dtype: float64\n"
     ]
    }
   ],
   "source": [
    "rsquared_adj = models3.apply(lambda a: \n",
    "                            a[1].rsquared_adj, axis=1)\n",
    "print(models3.iloc[:,0])\n",
    "print(rsquared_adj)\n",
    "# R^2 increasing & RSS lowering but adj R^2 is falling post 10 p hence, we dont need more than 10 p, others are insignificant"
   ]
  },
  {
   "attachments": {
    "image.png": {
     "image/png": "[encoded data removed]"
    }
   },
   "cell_type": "markdown",
   "metadata": {},
   "source": [
    "## Shrinkage Methods\n",
    "\n",
    "### Ridge Regression and the Lasso\n",
    "\n",
    "Ridge regression is very similar to least squares, except that the coefficients are estimated by minimizing a slightly different quantity. In particular, the ridge regression coefficient estimates βˆR are the values that minimize\n",
    "![image.png](attachment:image.png)\n",
    "\n",
    "where λ ≥ 0 is a tuning parameter, to be determined separately. Equation trades off two different criteria. As with least squares, ridge regression seeks coefficient estimates that fit the data well, by making the RSS small. However, the second term, called a shrinkage penalty, is small when β1, . . . , βp are close to zero, and so it has the effect of shrinking the estimates of βj towards zero."
   ]
  },
  {
   "cell_type": "code",
   "execution_count": 97,
   "metadata": {},
   "outputs": [],
   "source": [
    "from sklearn.preprocessing import scale \n",
    "from sklearn.model_selection import train_test_split\n",
    "from sklearn.linear_model import Ridge, RidgeCV, Lasso, LassoCV\n",
    "from sklearn.metrics import mean_squared_error"
   ]
  },
  {
   "cell_type": "code",
   "execution_count": 98,
   "metadata": {},
   "outputs": [],
   "source": [
    "Hitters = pd.read_csv('../data/Hitters.csv', header=0, na_values='NA')\n",
    "Hitters = Hitters.dropna().reset_index(drop=True) # drop the observation with NA values and reindex the obs from 0\n",
    "dummies = pd.get_dummies(Hitters[['League', 'Division', 'NewLeague']])\n",
    "\n",
    "y = Hitters.Salary  # the response variable \n",
    "X_prep = Hitters.drop (['Salary', 'League', 'Division', 'NewLeague'], axis = 1).astype('float64')\n",
    "X = pd.concat([X_prep,  dummies[['League_A', 'Division_E', 'NewLeague_A']]], axis=1)"
   ]
  },
  {
   "cell_type": "code",
   "execution_count": 99,
   "metadata": {},
   "outputs": [],
   "source": [
    "X_train, X_test , y_train, y_test = train_test_split(X, y)"
   ]
  },
  {
   "cell_type": "code",
   "execution_count": 102,
   "metadata": {},
   "outputs": [
    {
     "name": "stdout",
     "output_type": "stream",
     "text": [
      "AtBat           0.094214\n",
      "Hits            0.425688\n",
      "HmRun           1.393435\n",
      "Runs            0.667159\n",
      "RBI             0.696568\n",
      "Walks           1.053478\n",
      "Years           2.479727\n",
      "CAtBat          0.008734\n",
      "CHits           0.035571\n",
      "CHmRun          0.290251\n",
      "CRuns           0.078347\n",
      "CRBI            0.071455\n",
      "CWalks          0.080231\n",
      "PutOuts         0.073132\n",
      "Assists         0.009901\n",
      "Errors         -0.120890\n",
      "League_A       -8.035691\n",
      "Division_E     38.755126\n",
      "NewLeague_A    -5.881910\n",
      "dtype: float64\n",
      "75728.85761302235\n"
     ]
    },
    {
     "data": {
      "text/plain": [
       "Ridge(alpha=4, copy_X=True, fit_intercept=True, max_iter=None, normalize=True,\n",
       "      random_state=None, solver='auto', tol=0.001)"
      ]
     },
     "execution_count": 102,
     "metadata": {},
     "output_type": "execute_result"
    }
   ],
   "source": [
    "ridge = Ridge(fit_intercept=True, normalize=True, alpha=4)\n",
    "ridgemodel = ridge.fit(X_train, y_train)             # Fit a ridge regression on the training data\n",
    "pred = ridge.predict(X_test)           # Use this model to predict the test data\n",
    "print(pd.Series(ridge.coef_, index=X.columns)) # Print coefficients\n",
    "print(mean_squared_error(y_test, pred))        # Calculate the test MSE"
   ]
  },
  {
   "cell_type": "code",
   "execution_count": 105,
   "metadata": {},
   "outputs": [],
   "source": [
    "RidgeCV?"
   ]
  },
  {
   "cell_type": "code",
   "execution_count": 106,
   "metadata": {
    "scrolled": true
   },
   "outputs": [
    {
     "data": {
      "text/plain": [
       "0.01"
      ]
     },
     "execution_count": 106,
     "metadata": {},
     "output_type": "execute_result"
    }
   ],
   "source": [
    "ridgecv =  RidgeCV(alpha, normalize = True)\n",
    "ridgecv.fit(X_train, y_train)\n",
    "ridgecv.alpha_"
   ]
  },
  {
   "cell_type": "code",
   "execution_count": 107,
   "metadata": {},
   "outputs": [
    {
     "data": {
      "text/plain": [
       "80032.16337972828"
      ]
     },
     "execution_count": 107,
     "metadata": {},
     "output_type": "execute_result"
    }
   ],
   "source": [
    "ridge_best = Ridge(alpha=ridgecv.alpha_, normalize=True)\n",
    "ridge_best.fit(X_train, y_train)\n",
    "mean_squared_error(y_test, ridge_best.predict(X_test))"
   ]
  },
  {
   "cell_type": "code",
   "execution_count": 109,
   "metadata": {},
   "outputs": [
    {
     "data": {
      "text/plain": [
       "AtBat           -1.937886\n",
       "Hits             6.125915\n",
       "HmRun           -0.915264\n",
       "Runs            -1.018186\n",
       "RBI              0.791576\n",
       "Walks            6.247442\n",
       "Years          -15.849746\n",
       "CAtBat          -0.085709\n",
       "CHits            0.251573\n",
       "CHmRun           1.654119\n",
       "CRuns            0.985110\n",
       "CRBI             0.041817\n",
       "CWalks          -0.539329\n",
       "PutOuts          0.256748\n",
       "Assists          0.316338\n",
       "Errors          -1.251228\n",
       "League_A       -98.739059\n",
       "Division_E     144.956790\n",
       "NewLeague_A     56.504161\n",
       "dtype: float64"
      ]
     },
     "execution_count": 109,
     "metadata": {},
     "output_type": "execute_result"
    }
   ],
   "source": [
    "pd.Series(ridge_best.coef_, index=X.columns)"
   ]
  },
  {
   "cell_type": "markdown",
   "metadata": {},
   "source": [
    "### We saw that ridge regression with a wise choice of λ can outperform least squares as well as the null model on the Hitters data set. We now ask whether the lasso can yield either a more accurate or a more interpretable model than ridge regression."
   ]
  },
  {
   "cell_type": "code",
   "execution_count": 113,
   "metadata": {},
   "outputs": [
    {
     "data": {
      "text/plain": [
       "76680.11673280169"
      ]
     },
     "execution_count": 113,
     "metadata": {},
     "output_type": "execute_result"
    }
   ],
   "source": [
    "lassocv = LassoCV(alphas=None, cv=10, max_iter=1e5, normalize=True)\n",
    "lassocv.fit(X_train, y_train)\n",
    "\n",
    "lasso.set_params(alpha=lassocv.alpha_)\n",
    "lasso.fit(X_train, y_train)\n",
    "mean_squared_error(y_test, lasso.predict(X_test))"
   ]
  },
  {
   "cell_type": "code",
   "execution_count": 114,
   "metadata": {},
   "outputs": [
    {
     "data": {
      "text/plain": [
       "AtBat           -1.792745\n",
       "Hits             5.933814\n",
       "HmRun           -0.000000\n",
       "Runs            -0.000000\n",
       "RBI              0.000000\n",
       "Walks            5.254110\n",
       "Years          -13.832284\n",
       "CAtBat          -0.000000\n",
       "CHits            0.000000\n",
       "CHmRun           1.540912\n",
       "CRuns            0.820241\n",
       "CRBI             0.000000\n",
       "CWalks          -0.400841\n",
       "PutOuts          0.257400\n",
       "Assists          0.201540\n",
       "Errors          -0.000000\n",
       "League_A       -45.697486\n",
       "Division_E     143.328128\n",
       "NewLeague_A      0.000000\n",
       "dtype: float64"
      ]
     },
     "execution_count": 114,
     "metadata": {},
     "output_type": "execute_result"
    }
   ],
   "source": [
    "# Some of the coefficients should reduce to exact zero\n",
    "pd.Series(lasso.coef_, index=X.columns)"
   ]
  },
  {
   "cell_type": "code",
   "execution_count": null,
   "metadata": {},
   "outputs": [],
   "source": []
  }
 ],
 "metadata": {
  "kernelspec": {
   "display_name": "Python 3",
   "language": "python",
   "name": "python3"
  },
  "language_info": {
   "codemirror_mode": {
    "name": "ipython",
    "version": 3
   },
   "file_extension": ".py",
   "mimetype": "text/x-python",
   "name": "python",
   "nbconvert_exporter": "python",
   "pygments_lexer": "ipython3",
   "version": "3.7.7"
  }
 },
 "nbformat": 4,
 "nbformat_minor": 4
}
