{
 "cells": [
  {
   "cell_type": "markdown",
   "metadata": {},
   "source": [
    "# Classification\n",
    "Topics covered in this chapter of the book-\n",
    "\n",
    "* 4.1 An Overview of Classification................. 128\n",
    "* 4.2 Why Not Linear Regression? ................. 129\n",
    "* 4.3 Logistic Regression....................... 130\n",
    "  * 4.3.1 The Logistic Model................... 131 \n",
    "  * 4.3.2 Estimating the Regression Coefficients . . . . . . . . 133 \n",
    "  * 4.3.3 Making Predictions................... 134 \n",
    "  * 4.3.4 Multiple Logistic Regression. . . . . . . . . . . . . . 135 \n",
    "  * 4.3.5 Logistic Regression for >2 Response Classes . . . . . 137\n",
    "* 4.4 Linear Discriminant Analysis ................. 138 \n",
    "  * 4.4.1 Using Bayes’ Theorem for Classification . . . . . . . 138\n",
    "  * 4.4.2 Linear Discriminant Analysis for p=1. . . . . . . . 139 \n",
    "  * 4.4.3 Linear Discriminant Analysis for p >1 . . . . . . . . 142 \n",
    "  * 4.4.4 Quadratic Discriminant Analysis . . . . . . . . . . . 149\n",
    "* 4.5 A Comparison of Classification Methods . . . . . . . . . . . 151\n",
    "* 4.6 Lab: Logistic Regression, LDA, QDA, and KNN . . . . . . 154\n",
    "\n",
    "**Following is the summary of concepts along with data and python code-**\n"
   ]
  },
  {
   "cell_type": "code",
   "execution_count": null,
   "metadata": {},
   "outputs": [],
   "source": []
  }
 ],
 "metadata": {
  "kernelspec": {
   "display_name": "Python 3",
   "language": "python",
   "name": "python3"
  },
  "language_info": {
   "codemirror_mode": {
    "name": "ipython",
    "version": 3
   },
   "file_extension": ".py",
   "mimetype": "text/x-python",
   "name": "python",
   "nbconvert_exporter": "python",
   "pygments_lexer": "ipython3",
   "version": "3.7.7"
  }
 },
 "nbformat": 4,
 "nbformat_minor": 4
}
