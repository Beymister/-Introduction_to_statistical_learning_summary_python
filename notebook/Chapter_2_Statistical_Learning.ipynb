{
 "cells": [
  {
   "cell_type": "markdown",
   "metadata": {},
   "source": [
    "# Chapter 2: Statistical Learning\n",
    "\n",
    "Topics covered- \n",
    "\n",
    "- What Is Statistical Learning?\n",
    "- Assessing Model Accuracy\n",
    "- Introduction to Programming language \n",
    "\n",
    "**Following is a quick summary of these topics.**  "
   ]
  },
  {
   "cell_type": "markdown",
   "metadata": {},
   "source": [
    "### What Is Statistical Learning? \n",
    "Statistical learning refers to a vast set of tools or mathematical functions for understanding the patterns in  the data. When these functions are learned by a computer then, Statistical Learning becomes Machine Learning.\n",
    "\n",
    "There are two main reasons that we may wish to estimate the functions: prediction and inference.\n",
    "\n",
    "#### Prediction\n",
    "In situations where one has set of inputs, X and unknown output, Y. Then, using a function f that defines the relationship between output Y and input Xs, one can predict the Y. In this case, f is often treated as a black box, in the sense that one is not typically concerned with the exact form of f, provided that it yields accurate predictions for Y.\n",
    "\n",
    "As an example, suppose that X1 , . . . , Xp are characteristics of a patient’s blood sample that can be easily measured in a lab, and Y is a variable encoding the patient’s risk for a severe adverse reaction to a particular drug. It is natural to seek to predict Y using X, since we can then avoid giving the drug in question to patients who are at high risk of an adverse reaction—that is, patients for whom the estimate of Y is high.\n",
    "\n",
    "The accuracy of Y as a prediction for Y depends on two quantities, which we will call the reducible error and the irreducible error. Reducible error can potentially improve the accuracy of estimated function (^f) by using the most appropriate statistical learning technique. On other hand, irreducible error no matter how well we estimate f, we cannot reduce this error because its the unknown part which cannot be predicted using the given X.\n",
    "The focus of this book is on techniques for estimating f with the aim of minimizing the reducible error.\n",
    "\n",
    "#### Inference\n",
    "We are often interested in understanding the way that Y is affected as X1,...,Xp change.  In case of inference, we wish to estimate f, but our goal is not necessarily to make predictions for Y . We instead want to understand the relationship between X and Y , or more specifically, to understand how Y changes as a function of X1, . . . , Xp. \n",
    "\n",
    "For eg: Advertising\n",
    "- Which media contribute to sales?\n",
    "- Which media generate the biggest boost in sales? or\n",
    "- How much increase in sales is associated with a given increase in TV advertising?\n",
    "\n",
    "### Assessing Model Accuracy\n",
    "To assess the right statistical learning model or function for your prediction, we need to understand following concepts- \n",
    "\n",
    "#### Measuring the Quality of Fit\n",
    "We need to quantify the extent to which the predicted response value for a given observation is close to the true response value for that observation. This is done through measuring MSE, Gini, cross-validation, confusion matrix are common methods to do this which we see in practice in coming chapters\n",
    "\n",
    "#### The Bias-Variance Trade-Off- \n",
    "Variance refers to the amount by which f would change if we estimated it using a different training data set. n general, more flexible statistical methods have higher variance.\n",
    "Bias refers to the error that is introduced by approxi- mating a real-life problem, which may be extremely complicated, by a much simpler model. Generally, more flexible methods result in less bias.\n",
    "\n",
    "In a real-life situation in which f is unobserved, it is generally not pos- sible to explicitly compute the test MSE, bias, or variance for a statistical learning method. Nevertheless, one should always keep the bias-variance trade-off in mind."
   ]
  },
  {
   "cell_type": "markdown",
   "metadata": {},
   "source": [
    "### Lab: Introduction to Programming language \n",
    "\n",
    "The book introduces to R. This is a similar quick intro to Python.\n",
    "(You can do a detailed python learning course at kaggle, coursera or any similar platform. One basic one- https://www.kaggle.com/learn/python)"
   ]
  },
  {
   "cell_type": "code",
   "execution_count": 8,
   "metadata": {},
   "outputs": [],
   "source": [
    "#Import needed packages\n",
    "import numpy as np\n",
    "import gc\n",
    "import pandas as pd \n",
    "import matplotlib.pyplot as plt"
   ]
  },
  {
   "cell_type": "code",
   "execution_count": 9,
   "metadata": {},
   "outputs": [
    {
     "name": "stdout",
     "output_type": "stream",
     "text": [
      "[1 6 2]\n",
      "[1 4 3]\n"
     ]
    }
   ],
   "source": [
    "#create a simple array using the imported package \n",
    "x = np.array([1,6,2])\n",
    "print(x)\n",
    "y = np.array([1,4,3])\n",
    "print(y)"
   ]
  },
  {
   "cell_type": "code",
   "execution_count": 5,
   "metadata": {},
   "outputs": [
    {
     "name": "stdout",
     "output_type": "stream",
     "text": [
      "[1.         2.44948974 1.41421356]\n",
      "[ 1 36  4]\n"
     ]
    }
   ],
   "source": [
    "#Do simple calculations\n",
    "\n",
    "a = np.sqrt(x)\n",
    "print(a)\n",
    "b = x**2\n",
    "print(b)"
   ]
  },
  {
   "cell_type": "code",
   "execution_count": 6,
   "metadata": {},
   "outputs": [
    {
     "name": "stdout",
     "output_type": "stream",
     "text": [
      "(array([ 0.01404412,  0.91988109,  1.59123326,  1.000896  ,  1.26976966,\n",
      "       -1.272928  , -0.50323776, -0.11056081, -0.14095802,  0.09387759,\n",
      "        2.20500382,  0.51227931, -0.58273794, -0.32199692, -0.09192135,\n",
      "        0.70000493, -0.8680325 ,  0.27033678,  1.47922745,  0.21508532,\n",
      "        0.52408055,  1.38469867, -0.23226354, -1.99513935,  0.36238505,\n",
      "        0.52867796, -0.35347536,  0.511871  , -0.56766248,  0.70676087,\n",
      "       -0.37306319,  0.4626776 ,  0.92749558,  0.90459539,  0.8495935 ,\n",
      "       -0.12153264, -0.29295865,  0.68775615,  0.48597513,  2.57595672,\n",
      "        1.07974537, -1.21534603,  1.78613564, -0.31393183, -0.73314667,\n",
      "       -0.29438605, -0.9242743 ,  0.4049918 ,  0.13334734,  1.02751066]), array([49.98120401, 50.91608078, 51.58971709, 51.07107607, 51.32180246,\n",
      "       48.70035785, 49.52208555, 49.75133906, 49.92863795, 50.15178828,\n",
      "       52.07028782, 50.50144558, 49.25777553, 49.49868209, 49.96057227,\n",
      "       50.56607487, 49.02915221, 50.18172388, 51.53060877, 50.20260237,\n",
      "       50.63113563, 51.32236867, 49.62234677, 47.91149136, 50.55440538,\n",
      "       50.41556176, 49.55518052, 50.60059651, 49.61613978, 50.74931486,\n",
      "       49.57140888, 50.61738549, 50.87125349, 50.94501452, 50.88803598,\n",
      "       49.72754246, 49.70627376, 50.58541582, 50.33597385, 52.55425992,\n",
      "       51.03120623, 48.8115164 , 51.54149539, 49.70081316, 49.27407631,\n",
      "       49.55872729, 49.0949605 , 50.55885609, 50.2491796 , 50.99249379]))\n"
     ]
    }
   ],
   "source": [
    "#Create random datasets\n",
    "\n",
    "x = np.random.normal(0, 1, 50)\n",
    "y = x + np.random.normal(50, 0.1, 50)\n",
    "print(x,y)"
   ]
  },
  {
   "cell_type": "code",
   "execution_count": 7,
   "metadata": {},
   "outputs": [
    {
     "data": {
      "text/plain": [
       "0.9938048191814604"
      ]
     },
     "execution_count": 7,
     "metadata": {},
     "output_type": "execute_result"
    }
   ],
   "source": [
    "#Calculate correlation\n",
    "\n",
    "np.corrcoef(x, y)[0,1]"
   ]
  },
  {
   "cell_type": "code",
   "execution_count": 9,
   "metadata": {},
   "outputs": [
    {
     "data": {
      "image/png": "[encoded data removed]",
      "text/plain": [
       "<Figure size 432x288 with 1 Axes>"
      ]
     },
     "metadata": {
      "needs_background": "light"
     },
     "output_type": "display_data"
    }
   ],
   "source": [
    "#Plot some graphs\n",
    "\n",
    "x = np.random.normal(0, 1, 100)\n",
    "y = np.random.normal(0, 1, 100)\n",
    "\n",
    "plt.plot(x, y, 'bo') \n",
    "plt.ylabel(\"this is the y-axis\")\n",
    "plt.xlabel(\"this is the x-axis\")\n",
    "plt.title(\"Plot of X vs Y\")\n",
    "plt.savefig('Graph.pdf') \n",
    "plt.show() \n",
    "# please use plt.plot? to look at more options "
   ]
  },
  {
   "cell_type": "code",
   "execution_count": 25,
   "metadata": {},
   "outputs": [
    {
     "name": "stdout",
     "output_type": "stream",
     "text": [
      "[[ 1  5  9 13]\n",
      " [ 2  6 10 14]\n",
      " [ 3  7 11 15]\n",
      " [ 4  8 12 16]]\n",
      "\n",
      "[[5]\n",
      " [7]]\n",
      "\n",
      "[[ 5 13]\n",
      " [ 7 15]]\n",
      "\n",
      "[[ 5  9 13]\n",
      " [ 6 10 14]\n",
      " [ 7 11 15]]\n",
      "\n",
      "[[ 5 13]\n",
      " [ 7 15]]\n",
      "\n",
      "16\n"
     ]
    }
   ],
   "source": [
    "## Understand how indexing in python works \n",
    "a = np.arange(1,17).reshape(4, 4).transpose()\n",
    "print(a)\n",
    "print\n",
    "print(a[[[0],[2]], [1]])\n",
    "print\n",
    "print(a[[[0],[2]], [1,3]])\n",
    "print\n",
    "print(a[0:3, 1:4])\n",
    "print\n",
    "print(a[0:3:2,1:4:2])\n",
    "print\n",
    "print(a[-1, -1]) "
   ]
  },
  {
   "cell_type": "code",
   "execution_count": 12,
   "metadata": {},
   "outputs": [
    {
     "name": "stdout",
     "output_type": "stream",
     "text": [
      "    mpg  cylinders  displacement  horsepower  weight  acceleration  year  \\\n",
      "0  18.0          8         307.0       130.0    3504          12.0    70   \n",
      "1  15.0          8         350.0       165.0    3693          11.5    70   \n",
      "2  18.0          8         318.0       150.0    3436          11.0    70   \n",
      "3  16.0          8         304.0       150.0    3433          12.0    70   \n",
      "4  17.0          8         302.0       140.0    3449          10.5    70   \n",
      "\n",
      "   origin                       name  \n",
      "0       1  chevrolet chevelle malibu  \n",
      "1       1          buick skylark 320  \n",
      "2       1         plymouth satellite  \n",
      "3       1              amc rebel sst  \n",
      "4       1                ford torino  \n"
     ]
    }
   ],
   "source": [
    "# Load Data from your computer\n",
    "auto = pd.read_csv('../data/Auto.csv', header=0, na_values='?')\n",
    "print(auto.head(5)) ##View top 5 rows of the data"
   ]
  },
  {
   "cell_type": "code",
   "execution_count": 16,
   "metadata": {},
   "outputs": [
    {
     "name": "stdout",
     "output_type": "stream",
     "text": [
      "(397, 9)\n"
     ]
    }
   ],
   "source": [
    "print(auto.shape) ##know the R*C of the data "
   ]
  },
  {
   "cell_type": "code",
   "execution_count": 17,
   "metadata": {},
   "outputs": [
    {
     "name": "stdout",
     "output_type": "stream",
     "text": [
      "mpg             0\n",
      "cylinders       0\n",
      "displacement    0\n",
      "horsepower      5\n",
      "weight          0\n",
      "acceleration    0\n",
      "year            0\n",
      "origin          0\n",
      "name            0\n",
      "dtype: int64\n"
     ]
    }
   ],
   "source": [
    "print(auto.isnull().sum()) ##Know count of missing observations in each column"
   ]
  },
  {
   "cell_type": "code",
   "execution_count": 19,
   "metadata": {},
   "outputs": [
    {
     "data": {
      "text/html": [
       "<div>\n",
       "<style scoped>\n",
       "    .dataframe tbody tr th:only-of-type {\n",
       "        vertical-align: middle;\n",
       "    }\n",
       "\n",
       "    .dataframe tbody tr th {\n",
       "        vertical-align: top;\n",
       "    }\n",
       "\n",
       "    .dataframe thead th {\n",
       "        text-align: right;\n",
       "    }\n",
       "</style>\n",
       "<table border=\"1\" class=\"dataframe\">\n",
       "  <thead>\n",
       "    <tr style=\"text-align: right;\">\n",
       "      <th></th>\n",
       "      <th>mpg</th>\n",
       "      <th>cylinders</th>\n",
       "      <th>displacement</th>\n",
       "      <th>horsepower</th>\n",
       "      <th>weight</th>\n",
       "      <th>acceleration</th>\n",
       "      <th>year</th>\n",
       "      <th>origin</th>\n",
       "      <th>name</th>\n",
       "    </tr>\n",
       "  </thead>\n",
       "  <tbody>\n",
       "    <tr>\n",
       "      <th>count</th>\n",
       "      <td>397.000000</td>\n",
       "      <td>397.000000</td>\n",
       "      <td>397.000000</td>\n",
       "      <td>392.000000</td>\n",
       "      <td>397.000000</td>\n",
       "      <td>397.000000</td>\n",
       "      <td>397.000000</td>\n",
       "      <td>397.000000</td>\n",
       "      <td>397</td>\n",
       "    </tr>\n",
       "    <tr>\n",
       "      <th>unique</th>\n",
       "      <td>NaN</td>\n",
       "      <td>NaN</td>\n",
       "      <td>NaN</td>\n",
       "      <td>NaN</td>\n",
       "      <td>NaN</td>\n",
       "      <td>NaN</td>\n",
       "      <td>NaN</td>\n",
       "      <td>NaN</td>\n",
       "      <td>304</td>\n",
       "    </tr>\n",
       "    <tr>\n",
       "      <th>top</th>\n",
       "      <td>NaN</td>\n",
       "      <td>NaN</td>\n",
       "      <td>NaN</td>\n",
       "      <td>NaN</td>\n",
       "      <td>NaN</td>\n",
       "      <td>NaN</td>\n",
       "      <td>NaN</td>\n",
       "      <td>NaN</td>\n",
       "      <td>ford pinto</td>\n",
       "    </tr>\n",
       "    <tr>\n",
       "      <th>freq</th>\n",
       "      <td>NaN</td>\n",
       "      <td>NaN</td>\n",
       "      <td>NaN</td>\n",
       "      <td>NaN</td>\n",
       "      <td>NaN</td>\n",
       "      <td>NaN</td>\n",
       "      <td>NaN</td>\n",
       "      <td>NaN</td>\n",
       "      <td>6</td>\n",
       "    </tr>\n",
       "    <tr>\n",
       "      <th>mean</th>\n",
       "      <td>23.515869</td>\n",
       "      <td>5.458438</td>\n",
       "      <td>193.532746</td>\n",
       "      <td>104.469388</td>\n",
       "      <td>2970.261965</td>\n",
       "      <td>15.555668</td>\n",
       "      <td>75.994962</td>\n",
       "      <td>1.574307</td>\n",
       "      <td>NaN</td>\n",
       "    </tr>\n",
       "    <tr>\n",
       "      <th>std</th>\n",
       "      <td>7.825804</td>\n",
       "      <td>1.701577</td>\n",
       "      <td>104.379583</td>\n",
       "      <td>38.491160</td>\n",
       "      <td>847.904119</td>\n",
       "      <td>2.749995</td>\n",
       "      <td>3.690005</td>\n",
       "      <td>0.802549</td>\n",
       "      <td>NaN</td>\n",
       "    </tr>\n",
       "    <tr>\n",
       "      <th>min</th>\n",
       "      <td>9.000000</td>\n",
       "      <td>3.000000</td>\n",
       "      <td>68.000000</td>\n",
       "      <td>46.000000</td>\n",
       "      <td>1613.000000</td>\n",
       "      <td>8.000000</td>\n",
       "      <td>70.000000</td>\n",
       "      <td>1.000000</td>\n",
       "      <td>NaN</td>\n",
       "    </tr>\n",
       "    <tr>\n",
       "      <th>25%</th>\n",
       "      <td>17.500000</td>\n",
       "      <td>4.000000</td>\n",
       "      <td>104.000000</td>\n",
       "      <td>75.000000</td>\n",
       "      <td>2223.000000</td>\n",
       "      <td>13.800000</td>\n",
       "      <td>73.000000</td>\n",
       "      <td>1.000000</td>\n",
       "      <td>NaN</td>\n",
       "    </tr>\n",
       "    <tr>\n",
       "      <th>50%</th>\n",
       "      <td>23.000000</td>\n",
       "      <td>4.000000</td>\n",
       "      <td>146.000000</td>\n",
       "      <td>93.500000</td>\n",
       "      <td>2800.000000</td>\n",
       "      <td>15.500000</td>\n",
       "      <td>76.000000</td>\n",
       "      <td>1.000000</td>\n",
       "      <td>NaN</td>\n",
       "    </tr>\n",
       "    <tr>\n",
       "      <th>75%</th>\n",
       "      <td>29.000000</td>\n",
       "      <td>8.000000</td>\n",
       "      <td>262.000000</td>\n",
       "      <td>126.000000</td>\n",
       "      <td>3609.000000</td>\n",
       "      <td>17.100000</td>\n",
       "      <td>79.000000</td>\n",
       "      <td>2.000000</td>\n",
       "      <td>NaN</td>\n",
       "    </tr>\n",
       "    <tr>\n",
       "      <th>max</th>\n",
       "      <td>46.600000</td>\n",
       "      <td>8.000000</td>\n",
       "      <td>455.000000</td>\n",
       "      <td>230.000000</td>\n",
       "      <td>5140.000000</td>\n",
       "      <td>24.800000</td>\n",
       "      <td>82.000000</td>\n",
       "      <td>3.000000</td>\n",
       "      <td>NaN</td>\n",
       "    </tr>\n",
       "  </tbody>\n",
       "</table>\n",
       "</div>"
      ],
      "text/plain": [
       "               mpg   cylinders  displacement  horsepower       weight  \\\n",
       "count   397.000000  397.000000    397.000000  392.000000   397.000000   \n",
       "unique         NaN         NaN           NaN         NaN          NaN   \n",
       "top            NaN         NaN           NaN         NaN          NaN   \n",
       "freq           NaN         NaN           NaN         NaN          NaN   \n",
       "mean     23.515869    5.458438    193.532746  104.469388  2970.261965   \n",
       "std       7.825804    1.701577    104.379583   38.491160   847.904119   \n",
       "min       9.000000    3.000000     68.000000   46.000000  1613.000000   \n",
       "25%      17.500000    4.000000    104.000000   75.000000  2223.000000   \n",
       "50%      23.000000    4.000000    146.000000   93.500000  2800.000000   \n",
       "75%      29.000000    8.000000    262.000000  126.000000  3609.000000   \n",
       "max      46.600000    8.000000    455.000000  230.000000  5140.000000   \n",
       "\n",
       "        acceleration        year      origin        name  \n",
       "count     397.000000  397.000000  397.000000         397  \n",
       "unique           NaN         NaN         NaN         304  \n",
       "top              NaN         NaN         NaN  ford pinto  \n",
       "freq             NaN         NaN         NaN           6  \n",
       "mean       15.555668   75.994962    1.574307         NaN  \n",
       "std         2.749995    3.690005    0.802549         NaN  \n",
       "min         8.000000   70.000000    1.000000         NaN  \n",
       "25%        13.800000   73.000000    1.000000         NaN  \n",
       "50%        15.500000   76.000000    1.000000         NaN  \n",
       "75%        17.100000   79.000000    2.000000         NaN  \n",
       "max        24.800000   82.000000    3.000000         NaN  "
      ]
     },
     "execution_count": 19,
     "metadata": {},
     "output_type": "execute_result"
    }
   ],
   "source": [
    "auto.describe(include= 'all') ##Summary statistics of the data"
   ]
  },
  {
   "cell_type": "code",
   "execution_count": null,
   "metadata": {},
   "outputs": [],
   "source": []
  }
 ],
 "metadata": {
  "kernelspec": {
   "display_name": "Python 3",
   "language": "python",
   "name": "python3"
  },
  "language_info": {
   "codemirror_mode": {
    "name": "ipython",
    "version": 3
   },
   "file_extension": ".py",
   "mimetype": "text/x-python",
   "name": "python",
   "nbconvert_exporter": "python",
   "pygments_lexer": "ipython3",
   "version": "3.7.7"
  }
 },
 "nbformat": 4,
 "nbformat_minor": 2
}
